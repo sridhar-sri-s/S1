{
  "cells": [
    {
      "cell_type": "code",
      "execution_count": null,
      "metadata": {
        "id": "OOcEgHTxuLyS"
      },
      "outputs": [],
      "source": [
        "import pandas as pd\n",
        "import numpy as np\n",
        "import seaborn as sns\n",
        "import matplotlib.pyplot as plt\n",
        "from sklearn.model_selection import train_test_split\n",
        "from sklearn.linear_model import LogisticRegression\n",
        "from sklearn.ensemble import RandomForestClassifier\n",
        "from sklearn.metrics import classification_report, roc_auc_score, roc_curve, confusion_matrix\n"
      ]
    },
    {
      "cell_type": "code",
      "execution_count": 84,
      "metadata": {
        "id": "_2nvq9T3uQxZ"
      },
      "outputs": [],
      "source": [
        "file_path = '/content/SILKYSKY_DATA_CW2 (S).csv'\n",
        "data = pd.read_csv(file_path, encoding='ISO-8859-1')"
      ]
    },
    {
      "cell_type": "code",
      "execution_count": null,
      "metadata": {
        "colab": {
          "base_uri": "https://localhost:8080/",
          "height": 394
        },
        "id": "JIPODvYmuSd3",
        "outputId": "ae358cb4-bc2d-4b06-b76e-ba2be6785568"
      },
      "outputs": [],
      "source": [
        "data.head()"
      ]
    },
    {
      "cell_type": "code",
      "execution_count": 86,
      "metadata": {
        "id": "tqj23rtBu2UO"
      },
      "outputs": [],
      "source": [
        "\n",
        "\n",
        "# Convert 'Satisfied' column to numerical values\n",
        "data['Satisfied'] = data['Satisfied'].map({'Y': 1, 'N': 0})\n"
      ]
    },
    {
      "cell_type": "code",
      "execution_count": null,
      "metadata": {
        "colab": {
          "base_uri": "https://localhost:8080/",
          "height": 394
        },
        "id": "E3EM_Gxdu5qm",
        "outputId": "a9222cc2-8b9b-4664-eb2e-38c02d24a1ca"
      },
      "outputs": [],
      "source": [
        "data.head()"
      ]
    },
    {
      "cell_type": "code",
      "execution_count": null,
      "metadata": {
        "colab": {
          "base_uri": "https://localhost:8080/",
          "height": 481
        },
        "id": "zv0WE7ifvPSw",
        "outputId": "4b17ff86-f008-4729-c5ca-47886a32b597"
      },
      "outputs": [],
      "source": [
        "data.tail()"
      ]
    },
    {
      "cell_type": "code",
      "execution_count": null,
      "metadata": {
        "colab": {
          "base_uri": "https://localhost:8080/",
          "height": 384
        },
        "id": "GiiIKNVbvRtJ",
        "outputId": "63cafe92-0665-41b2-a701-05c7ec4d13fb"
      },
      "outputs": [],
      "source": [
        "data.describe()\n"
      ]
    },
    {
      "cell_type": "code",
      "execution_count": null,
      "metadata": {
        "colab": {
          "base_uri": "https://localhost:8080/",
          "height": 930
        },
        "id": "wGbSYa1wvTkd",
        "outputId": "ca3dc849-052d-4571-fe59-c83772789515"
      },
      "outputs": [],
      "source": [
        "data.isnull().sum()\n"
      ]
    },
    {
      "cell_type": "code",
      "execution_count": null,
      "metadata": {
        "colab": {
          "base_uri": "https://localhost:8080/",
          "height": 1000
        },
        "id": "iPW6E_SpwJO-",
        "outputId": "08eaf1f2-94b3-43e6-82b7-a228e4d1b5df"
      },
      "outputs": [],
      "source": [
        "import matplotlib.pyplot as plt\n",
        "import numpy as np\n",
        "import seaborn as sns # Added import for seaborn\n",
        "\n",
        "# Drop rows with missing values (if any)\n",
        "data.dropna(inplace=True)\n",
        "\n",
        "# Explore data distribution for numerical features\n",
        "numerical_features = data.select_dtypes(include=np.number).columns\n",
        "for feature in numerical_features:\n",
        "  plt.figure(figsize=(8, 6))\n",
        "  sns.histplot(data[feature], kde=True)\n",
        "  plt.title(f'Distribution of {feature}')\n",
        "  plt.show()\n",
        "\n",
        "# Explore data distribution for categorical features\n",
        "categorical_features = data.select_dtypes(include='object').columns\n",
        "for feature in categorical_features:\n",
        "  plt.figure(figsize=(8, 6))\n",
        "  sns.countplot(x=feature, data=data)\n",
        "  plt.title(f'Distribution of {feature}')\n",
        "  plt.xticks(rotation=45)\n",
        "  plt.show()\n",
        "\n",
        "# Analyze correlation between features\n",
        "correlation_matrix = data.corr(numeric_only=True) # Added numeric_only=True\n",
        "plt.figure(figsize=(12, 10))\n",
        "sns.heatmap(correlation_matrix, annot=True, cmap='coolwarm')\n",
        "plt.title('Correlation Matrix')\n",
        "plt.show()\n",
        "\n",
        "# Explore relationship between features and target variable\n",
        "for feature in numerical_features:\n",
        "  plt.figure(figsize=(8, 6))\n",
        "  sns.boxplot(x='Satisfied', y=feature, data=data)\n",
        "  plt.title(f'Relationship between {feature} and Satisfaction')\n",
        "  plt.show()\n",
        "\n",
        "for feature in categorical_features:\n",
        "  plt.figure(figsize=(8, 6))\n",
        "  sns.countplot(x=feature, hue='Satisfied', data=data)\n",
        "  plt.title(f'Relationship between {feature} and Satisfaction')\n",
        "  plt.xticks(rotation=45)\n",
        "  plt.show()"
      ]
    },
    {
      "cell_type": "code",
      "execution_count": 93,
      "metadata": {
        "id": "5KIvjoTrvjAn"
      },
      "outputs": [],
      "source": [
        "data = pd.get_dummies(data, drop_first=True)\n"
      ]
    },
    {
      "cell_type": "code",
      "execution_count": 96,
      "metadata": {
        "id": "-wsoKDUEwo_O"
      },
      "outputs": [],
      "source": [
        "#Train test Split\n",
        "X = data.drop('Satisfied', axis=1)  # Replace 'target_column' with your actual target column\n",
        "y = data['Satisfied']\n",
        "\n",
        "\n"
      ]
    },
    {
      "cell_type": "code",
      "execution_count": 98,
      "metadata": {
        "id": "bCGB9X1Xw0xT"
      },
      "outputs": [],
      "source": [
        "#  train-test split (80% training, 20% testing)\n",
        "X_train, X_test, y_train, y_test = train_test_split(X, y, test_size=0.2, random_state=42)"
      ]
    },
    {
      "cell_type": "code",
      "execution_count": null,
      "metadata": {
        "colab": {
          "base_uri": "https://localhost:8080/",
          "height": 1000
        },
        "id": "qhP4qizxxAny",
        "outputId": "2ffe91bb-1216-4db5-dd79-ef5fc5e71d65"
      },
      "outputs": [],
      "source": [
        "\n",
        "import matplotlib.pyplot as plt\n",
        "# Install xgboost if not already installed\n",
        "!pip install xgboost\n",
        "\n",
        "from xgboost import XGBClassifier\n",
        "\n",
        "# Initialize the XGBoost classifier\n",
        "xgb_model = XGBClassifier(random_state=42)\n",
        "\n",
        "# Train the model\n",
        "xgb_model.fit(X_train, y_train)\n",
        "\n",
        "# Make predictions on the test set\n",
        "y_pred = xgb_model.predict(X_test)\n",
        "\n",
        "# Evaluate the model\n",
        "print(classification_report(y_test, y_pred))\n",
        "\n",
        "# Calculate ROC AUC score\n",
        "roc_auc = roc_auc_score(y_test, y_pred)\n",
        "print(f'ROC AUC: {roc_auc}')\n",
        "\n",
        "# Plot ROC curve\n",
        "fpr, tpr, thresholds = roc_curve(y_test, y_pred)\n",
        "plt.plot(fpr, tpr)\n",
        "plt.xlabel('False Positive Rate')\n",
        "plt.ylabel('True Positive Rate')\n",
        "plt.title('ROC Curve')\n",
        "plt.show()\n",
        "\n",
        "# Generate confusion matrix\n",
        "cm = confusion_matrix(y_test, y_pred)\n",
        "sns.heatmap(cm, annot=True, fmt='d', cmap='Blues')\n",
        "plt.xlabel('Predicted')\n",
        "plt.ylabel('Actual')\n",
        "plt.title('Confusion Matrix')\n",
        "plt.show()\n"
      ]
    },
    {
      "cell_type": "code",
      "execution_count": null,
      "metadata": {
        "colab": {
          "base_uri": "https://localhost:8080/",
          "height": 1000
        },
        "id": "6eQubm48xWen",
        "outputId": "53ad6fc2-eba9-49bd-f646-4eacb2548c5c"
      },
      "outputs": [],
      "source": [
        "\n",
        "\n",
        "import matplotlib.pyplot as plt\n",
        "# Initialize the Random Forest classifier\n",
        "rf_model = RandomForestClassifier(random_state=42)\n",
        "\n",
        "# Train the model\n",
        "rf_model.fit(X_train, y_train)\n",
        "\n",
        "# Make predictions on the test set\n",
        "y_pred_rf = rf_model.predict(X_test)\n",
        "\n",
        "# Evaluate the model\n",
        "print(classification_report(y_test, y_pred_rf))\n",
        "\n",
        "# Calculate ROC AUC score\n",
        "roc_auc_rf = roc_auc_score(y_test, y_pred_rf)\n",
        "print(f'ROC AUC (Random Forest): {roc_auc_rf}')\n",
        "\n",
        "# Plot ROC curve\n",
        "fpr_rf, tpr_rf, thresholds_rf = roc_curve(y_test, y_pred_rf)\n",
        "plt.plot(fpr_rf, tpr_rf)\n",
        "plt.xlabel('False Positive Rate')\n",
        "plt.ylabel('True Positive Rate')\n",
        "plt.title('ROC Curve (Random Forest)')\n",
        "plt.show()\n",
        "\n",
        "# Generate confusion matrix\n",
        "cm_rf = confusion_matrix(y_test, y_pred_rf)\n",
        "sns.heatmap(cm_rf, annot=True, fmt='d', cmap='Blues')\n",
        "plt.xlabel('Predicted')\n",
        "plt.ylabel('Actual')\n",
        "plt.title('Confusion Matrix (Random Forest)')\n",
        "plt.show()\n"
      ]
    },
    {
      "cell_type": "code",
      "execution_count": null,
      "metadata": {
        "id": "3eR10jCayLqy"
      },
      "outputs": [],
      "source": []
    },
    {
      "cell_type": "code",
      "execution_count": null,
      "metadata": {
        "colab": {
          "base_uri": "https://localhost:8080/"
        },
        "id": "QHuQOTMUxyUn",
        "outputId": "a37c04dd-55ef-4ab0-c226-166194746b43"
      },
      "outputs": [],
      "source": [
        "\n",
        "from sklearn.metrics import accuracy_score, precision_score, recall_score, f1_score\n",
        "\n",
        "# Assuming you have already trained your XGBoost model and have y_test and y_pred\n",
        "\n",
        "# Calculate evaluation metrics\n",
        "accuracy = accuracy_score(y_test, y_pred)\n",
        "precision = precision_score(y_test, y_pred)\n",
        "recall = recall_score(y_test, y_pred)\n",
        "f1 = f1_score(y_test, y_pred)\n",
        "\n",
        "# Print the evaluation metrics\n",
        "print(\"XGBoost Classifier Evaluation Metrics:\")\n",
        "print(\"Accuracy:\", accuracy)\n",
        "print(\"Precision:\", precision)\n",
        "print(\"Recall:\", recall)\n",
        "print(\"F1-Score:\", f1)\n"
      ]
    },
    {
      "cell_type": "code",
      "execution_count": null,
      "metadata": {
        "colab": {
          "base_uri": "https://localhost:8080/"
        },
        "id": "jpsicDZOyUnt",
        "outputId": "2e5ac59a-990c-4a3e-8cfa-09f66f8a8055"
      },
      "outputs": [],
      "source": [
        "\n",
        "from sklearn.metrics import roc_auc_score\n",
        "\n",
        "# Assuming you have already trained your XGBoost model and have y_test and y_pred\n",
        "\n",
        "# Calculate ROC AUC score\n",
        "roc_auc = roc_auc_score(y_test, y_pred)\n",
        "\n",
        "# Print the ROC AUC score\n",
        "print(\"ROC AUC Score for XGBoost Classifier:\", roc_auc)\n"
      ]
    },
    {
      "cell_type": "code",
      "execution_count": null,
      "metadata": {
        "colab": {
          "base_uri": "https://localhost:8080/"
        },
        "id": "Xh2J7baXyh7l",
        "outputId": "dc2f45dd-80b9-4d19-98a3-a8012755c07e"
      },
      "outputs": [],
      "source": [
        "# Evaluation Metrics for Random Forest\n",
        "print(\"Random Forest Classification Report:\")\n",
        "print(classification_report(y_test, y_pred_rf))\n"
      ]
    },
    {
      "cell_type": "code",
      "execution_count": null,
      "metadata": {
        "colab": {
          "base_uri": "https://localhost:8080/"
        },
        "id": "mEAjUFIOyn0F",
        "outputId": "c7edbf2d-1aa2-4391-c060-d4cba940b0f0"
      },
      "outputs": [],
      "source": [
        "\n",
        "\n",
        "# Calculate ROC AUC score for Random Forest\n",
        "roc_auc_rf = roc_auc_score(y_test, y_pred_rf)\n",
        "\n",
        "# Print the ROC AUC score for Random Forest\n",
        "print(\"ROC AUC Score for Random Forest Classifier:\", roc_auc_rf)\n"
      ]
    },
    {
      "cell_type": "code",
      "execution_count": null,
      "metadata": {
        "colab": {
          "base_uri": "https://localhost:8080/",
          "height": 1000
        },
        "id": "GoP8tY5yyqh7",
        "outputId": "a5ad35f0-81fc-4a27-b024-37666af6bfaf"
      },
      "outputs": [],
      "source": [
        "\n",
        "import matplotlib.pyplot as plt\n",
        "# Generate confusion matrix for XGBoost\n",
        "cm_xgb = confusion_matrix(y_test, y_pred)\n",
        "plt.figure(figsize=(8, 6))\n",
        "sns.heatmap(cm_xgb, annot=True, fmt='d', cmap='Blues')\n",
        "plt.xlabel('Predicted')\n",
        "plt.ylabel('Actual')\n",
        "plt.title('Confusion Matrix (XGBoost)')\n",
        "plt.show()\n",
        "\n",
        "# Generate confusion matrix for Random Forest\n",
        "cm_rf = confusion_matrix(y_test, y_pred_rf)\n",
        "plt.figure(figsize=(8, 6))\n",
        "sns.heatmap(cm_rf, annot=True, fmt='d', cmap='Greens')\n",
        "plt.xlabel('Predicted')\n",
        "plt.ylabel('Actual')\n",
        "plt.title('Confusion Matrix (Random Forest)')\n",
        "plt.show()\n"
      ]
    },
    {
      "cell_type": "code",
      "execution_count": null,
      "metadata": {
        "colab": {
          "base_uri": "https://localhost:8080/",
          "height": 564
        },
        "id": "ruFC8-5fzB2d",
        "outputId": "7c86a91f-d587-4be8-a455-3a8890217023"
      },
      "outputs": [],
      "source": [
        "\n",
        "from sklearn.metrics import roc_curve, auc\n",
        "import matplotlib.pyplot as plt\n",
        "\n",
        "# Generate ROC curve for XGBoost\n",
        "fpr_xgb, tpr_xgb, thresholds_xgb = roc_curve(y_test, xgb_model.predict_proba(X_test)[:, 1])\n",
        "roc_auc_xgb = auc(fpr_xgb, tpr_xgb)\n",
        "\n",
        "# Generate ROC curve for Random Forest\n",
        "fpr_rf, tpr_rf, thresholds_rf = roc_curve(y_test, rf_model.predict_proba(X_test)[:, 1])\n",
        "roc_auc_rf = auc(fpr_rf, tpr_rf)\n",
        "\n",
        "# Plot ROC curves for both models\n",
        "plt.figure(figsize=(8, 6))\n",
        "plt.plot(fpr_xgb, tpr_xgb, color='darkorange', lw=2, label='XGBoost (AUC = %0.2f)' % roc_auc_xgb)\n",
        "plt.plot(fpr_rf, tpr_rf, color='blue', lw=2, label='Random Forest (AUC = %0.2f)' % roc_auc_rf)\n",
        "plt.plot([0, 1], [0, 1], color='navy', lw=2, linestyle='--')\n",
        "plt.xlim([0.0, 1.0])\n",
        "plt.ylim([0.0, 1.05])\n",
        "plt.xlabel('False Positive Rate')\n",
        "plt.ylabel('True Positive Rate')\n",
        "plt.title('Receiver Operating Characteristic (ROC) Curve')\n",
        "plt.legend(loc=\"lower right\")\n",
        "plt.show()\n"
      ]
    },
    {
      "cell_type": "code",
      "execution_count": null,
      "metadata": {
        "colab": {
          "base_uri": "https://localhost:8080/",
          "height": 897
        },
        "id": "ls3SjcV5z73p",
        "outputId": "2f8e4360-7df9-4a15-91ed-22c9922fa770"
      },
      "outputs": [],
      "source": [
        "\n",
        "import pandas as pd\n",
        "import matplotlib.pyplot as plt\n",
        "# Get feature importances from the trained Random Forest model\n",
        "importances = rf_model.feature_importances_\n",
        "\n",
        "# Create a DataFrame to store feature names and their importances\n",
        "feature_importances_df = pd.DataFrame({'Feature': X_train.columns, 'Importance': importances})\n",
        "\n",
        "# Sort the DataFrame by importance in descending order\n",
        "feature_importances_df = feature_importances_df.sort_values('Importance', ascending=False)\n",
        "\n",
        "# Print the feature importances\n",
        "print(feature_importances_df)\n",
        "\n",
        "# Visualize feature importances using a bar plot\n",
        "plt.figure(figsize=(12, 8))\n",
        "sns.barplot(x='Importance', y='Feature', data=feature_importances_df)\n",
        "plt.title('Random Forest Feature Importance')\n",
        "plt.xlabel('Importance')\n",
        "plt.ylabel('Feature')\n",
        "plt.show()\n"
      ]
    },
    {
      "cell_type": "code",
      "execution_count": null,
      "metadata": {
        "colab": {
          "base_uri": "https://localhost:8080/",
          "height": 897
        },
        "id": "ZfK9_P2a0KCO",
        "outputId": "cbd37e50-d3b6-4dbd-851e-4ee05a42c680"
      },
      "outputs": [],
      "source": [
        "\n",
        "import pandas as pd\n",
        "import matplotlib.pyplot as plt\n",
        "# Get feature importances from the trained XGBoost model\n",
        "importances = xgb_model.feature_importances_\n",
        "\n",
        "# Create a DataFrame to store feature names and their importances\n",
        "feature_importances_df = pd.DataFrame({'Feature': X_train.columns, 'Importance': importances})\n",
        "\n",
        "# Sort the DataFrame by importance in descending order\n",
        "feature_importances_df = feature_importances_df.sort_values('Importance', ascending=False)\n",
        "\n",
        "# Print the feature importances\n",
        "print(feature_importances_df)\n",
        "\n",
        "# Visualize feature importances using a bar plot\n",
        "plt.figure(figsize=(12, 8))\n",
        "sns.barplot(x='Importance', y='Feature', data=feature_importances_df)\n",
        "plt.title('XGBoost Feature Importance')\n",
        "plt.xlabel('Importance')\n",
        "plt.ylabel('Feature')\n",
        "plt.show()\n"
      ]
    },
    {
      "cell_type": "code",
      "execution_count": null,
      "metadata": {
        "colab": {
          "base_uri": "https://localhost:8080/",
          "height": 897
        },
        "id": "DylKVS400ZG8",
        "outputId": "696aa16a-67b0-448b-982d-ecf8b7d5361d"
      },
      "outputs": [],
      "source": [
        "\n",
        "import pandas as pd\n",
        "import matplotlib.pyplot as plt\n",
        "# Analyze model performance using different metrics\n",
        "def analyze_model(model, model_name, X_test, y_test):\n",
        "  y_pred = model.predict(X_test)\n",
        "  accuracy = accuracy_score(y_test, y_pred)\n",
        "  precision = precision_score(y_test, y_pred)\n",
        "  recall = recall_score(y_test, y_pred)\n",
        "  f1 = f1_score(y_test, y_pred)\n",
        "  roc_auc = roc_auc_score(y_test, y_pred)\n",
        "\n",
        "  print(f\"\\n{model_name} Model Performance:\")\n",
        "  print(\"Accuracy:\", accuracy)\n",
        "  print(\"Precision:\", precision)\n",
        "  print(\"Recall:\", recall)\n",
        "  print(\"F1-Score:\", f1)\n",
        "  print(\"ROC AUC:\", roc_auc)\n",
        "\n",
        "\n",
        "# Analyze both XGBoost and Random Forest models\n",
        "analyze_model(xgb_model, \"XGBoost\", X_test, y_test)\n",
        "analyze_model(rf_model, \"Random Forest\", X_test, y_test)\n",
        "\n",
        "\n",
        "# Compare feature importances\n",
        "def compare_feature_importance(model1, model2, model_name1, model_name2, X_train):\n",
        "  importances1 = model1.feature_importances_\n",
        "  importances2 = model2.feature_importances_\n",
        "\n",
        "  feature_importances_df1 = pd.DataFrame({'Feature': X_train.columns, 'Importance': importances1, 'Model': model_name1})\n",
        "  feature_importances_df2 = pd.DataFrame({'Feature': X_train.columns, 'Importance': importances2, 'Model': model_name2})\n",
        "\n",
        "  feature_importances_df = pd.concat([feature_importances_df1, feature_importances_df2])\n",
        "\n",
        "  plt.figure(figsize=(12, 8))\n",
        "  sns.barplot(x='Importance', y='Feature', hue='Model', data=feature_importances_df)\n",
        "  plt.title('Comparison of Feature Importance Between Models')\n",
        "  plt.xlabel('Importance')\n",
        "  plt.ylabel('Feature')\n",
        "  plt.show()\n",
        "\n",
        "compare_feature_importance(xgb_model, rf_model, \"XGBoost\", \"Random Forest\", X_train)\n"
      ]
    },
    {
      "cell_type": "code",
      "execution_count": null,
      "metadata": {
        "id": "RSm22NG10ut5"
      },
      "outputs": [],
      "source": []
    }
  ],
  "metadata": {
    "colab": {
      "provenance": []
    },
    "kernelspec": {
      "display_name": "Python 3",
      "name": "python3"
    },
    "language_info": {
      "name": "python",
      "version": "3.12.1"
    }
  },
  "nbformat": 4,
  "nbformat_minor": 0
}
